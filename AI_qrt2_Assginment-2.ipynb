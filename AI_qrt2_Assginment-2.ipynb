{
 "cells": [
  {
   "cell_type": "code",
   "execution_count": 1,
   "metadata": {},
   "outputs": [],
   "source": [
    "import numpy as np"
   ]
  },
  {
   "cell_type": "code",
   "execution_count": 2,
   "metadata": {},
   "outputs": [],
   "source": [
    "#Task1\n",
    "def function1():\n",
    "    x = np.arange(1,13).reshape((6,2))\n",
    "    return x"
   ]
  },
  {
   "cell_type": "code",
   "execution_count": 27,
   "metadata": {},
   "outputs": [],
   "source": [
    "#Task2\n",
    "def function2():\n",
    "    #create 3D array (3,3,3)\n",
    "    #must data type should have float64\n",
    "    #array value should be satart from 10 and end with 36 (both included)\n",
    "    # Hint: dtype, reshape \n",
    "    \n",
    "    x = np.arange(1,28,dtype=np.float64).reshape((3,3,3))+9     #wrtie your code here\n",
    "    \n",
    "\n",
    "    return x"
   ]
  },
  {
   "cell_type": "code",
   "execution_count": 47,
   "metadata": {},
   "outputs": [],
   "source": [
    "#Task3\n",
    "def function3():\n",
    "    #extract those numbers from given array. those are must exist in 5,7 Table\n",
    "    #example [35,70,105,..]\n",
    "    a = np.arange(1, 100*10+1).reshape((100,10))\n",
    "    x = np.r_[a[np.mod(a,5)==0],a[np.mod(a,7)==0]] #wrtie your code here\n",
    "    \n",
    "    y= a[np.where((np.mod(a,5)==0)&(np.mod(a,7)==0))]#x.sort() .argsort()\n",
    "    return y"
   ]
  },
  {
   "cell_type": "code",
   "execution_count": 46,
   "metadata": {},
   "outputs": [
    {
     "data": {
      "text/plain": [
       "array([   5,   10,   15,   20,   25,   30,   35,   40,   45,   50,   55,\n",
       "         60,   65,   70,   75,   80,   85,   90,   95,  100,  105,  110,\n",
       "        115,  120,  125,  130,  135,  140,  145,  150,  155,  160,  165,\n",
       "        170,  175,  180,  185,  190,  195,  200,  205,  210,  215,  220,\n",
       "        225,  230,  235,  240,  245,  250,  255,  260,  265,  270,  275,\n",
       "        280,  285,  290,  295,  300,  305,  310,  315,  320,  325,  330,\n",
       "        335,  340,  345,  350,  355,  360,  365,  370,  375,  380,  385,\n",
       "        390,  395,  400,  405,  410,  415,  420,  425,  430,  435,  440,\n",
       "        445,  450,  455,  460,  465,  470,  475,  480,  485,  490,  495,\n",
       "        500,  505,  510,  515,  520,  525,  530,  535,  540,  545,  550,\n",
       "        555,  560,  565,  570,  575,  580,  585,  590,  595,  600,  605,\n",
       "        610,  615,  620,  625,  630,  635,  640,  645,  650,  655,  660,\n",
       "        665,  670,  675,  680,  685,  690,  695,  700,  705,  710,  715,\n",
       "        720,  725,  730,  735,  740,  745,  750,  755,  760,  765,  770,\n",
       "        775,  780,  785,  790,  795,  800,  805,  810,  815,  820,  825,\n",
       "        830,  835,  840,  845,  850,  855,  860,  865,  870,  875,  880,\n",
       "        885,  890,  895,  900,  905,  910,  915,  920,  925,  930,  935,\n",
       "        940,  945,  950,  955,  960,  965,  970,  975,  980,  985,  990,\n",
       "        995, 1000,    7,   14,   21,   28,   35,   42,   49,   56,   63,\n",
       "         70,   77,   84,   91,   98,  105,  112,  119,  126,  133,  140,\n",
       "        147,  154,  161,  168,  175,  182,  189,  196,  203,  210,  217,\n",
       "        224,  231,  238,  245,  252,  259,  266,  273,  280,  287,  294,\n",
       "        301,  308,  315,  322,  329,  336,  343,  350,  357,  364,  371,\n",
       "        378,  385,  392,  399,  406,  413,  420,  427,  434,  441,  448,\n",
       "        455,  462,  469,  476,  483,  490,  497,  504,  511,  518,  525,\n",
       "        532,  539,  546,  553,  560,  567,  574,  581,  588,  595,  602,\n",
       "        609,  616,  623,  630,  637,  644,  651,  658,  665,  672,  679,\n",
       "        686,  693,  700,  707,  714,  721,  728,  735,  742,  749,  756,\n",
       "        763,  770,  777,  784,  791,  798,  805,  812,  819,  826,  833,\n",
       "        840,  847,  854,  861,  868,  875,  882,  889,  896,  903,  910,\n",
       "        917,  924,  931,  938,  945,  952,  959,  966,  973,  980,  987,\n",
       "        994])"
      ]
     },
     "execution_count": 46,
     "metadata": {},
     "output_type": "execute_result"
    }
   ],
   "source": [
    "function3()"
   ]
  },
  {
   "cell_type": "code",
   "execution_count": 5,
   "metadata": {},
   "outputs": [],
   "source": [
    "#Task4\n",
    "def function4():\n",
    "    #Swap columns 1 and 2 in the array arr.\n",
    "   \n",
    "    arr = np.arange(9).reshape(3,3)\n",
    "    arr\n",
    "\n",
    "  \n",
    "    return arr[:,[1,0,2]] #wrtie your code here"
   ]
  },
  {
   "cell_type": "code",
   "execution_count": 6,
   "metadata": {},
   "outputs": [],
   "source": [
    "#Task5\n",
    "def function5():\n",
    "    #Create a null vector of size 20 with 4 rows and 5 columns with numpy function\n",
    "   \n",
    "    z = np.zeros(20).reshape(4,5)#wrtie your code here\n",
    "  \n",
    "    return z"
   ]
  },
  {
   "cell_type": "code",
   "execution_count": 51,
   "metadata": {},
   "outputs": [],
   "source": [
    "#Task6\n",
    "def function6():\n",
    "    # Create a null vector of size 10 but the fifth and eighth value which is 10,20 respectively\n",
    "    arr = np.zeros(10); #wrtie your code here\n",
    "    arr [5]=10 \n",
    "    arr [8]=20\n",
    "  \n",
    "    return arr"
   ]
  },
  {
   "cell_type": "code",
   "execution_count": 54,
   "metadata": {},
   "outputs": [
    {
     "name": "stdout",
     "output_type": "stream",
     "text": [
      "[0. 0. 0. 0. 0. 0. 0. 0. 0. 0.]\n"
     ]
    },
    {
     "data": {
      "text/plain": [
       "10"
      ]
     },
     "execution_count": 54,
     "metadata": {},
     "output_type": "execute_result"
    }
   ],
   "source": [
    "arr = np.zeros(10);print(arr)\n",
    "arr.size"
   ]
  },
  {
   "cell_type": "code",
   "execution_count": 52,
   "metadata": {},
   "outputs": [
    {
     "data": {
      "text/plain": [
       "array([ 0.,  0.,  0.,  0.,  0., 10.,  0.,  0., 20.,  0.])"
      ]
     },
     "execution_count": 52,
     "metadata": {},
     "output_type": "execute_result"
    }
   ],
   "source": [
    "function6()"
   ]
  },
  {
   "cell_type": "code",
   "execution_count": 8,
   "metadata": {},
   "outputs": [],
   "source": [
    "#Task7\n",
    "def function7():\n",
    "    #  Create an array of zeros with the same shape and type as X. Dont use reshape method\n",
    "    x = np.arange(4, dtype=np.int64)\n",
    "  \n",
    "    return np.zeros_like(x)#write your code here\n"
   ]
  },
  {
   "cell_type": "code",
   "execution_count": 9,
   "metadata": {},
   "outputs": [],
   "source": [
    "#Task8\n",
    "def function8():\n",
    "    # Create a new array of 2x5 uints, filled with 6.\n",
    "\n",
    "    x = np.full((2, 5),6,dtype=np.uint32) #write your code here\n",
    "  \n",
    "    return x"
   ]
  },
  {
   "cell_type": "code",
   "execution_count": 10,
   "metadata": {},
   "outputs": [],
   "source": [
    "#Task9\n",
    "def function9():\n",
    "    # Create an array of 2, 4, 6, 8, ..., 100.\n",
    "    \n",
    "    a = np.arange(1,51,dtype=np.int64)*2 # write your code here\n",
    "  \n",
    "    return a"
   ]
  },
  {
   "cell_type": "code",
   "execution_count": 11,
   "metadata": {},
   "outputs": [],
   "source": [
    "#Task10\n",
    "def function10():\n",
    "    # Subtract the 1d array brr from the 2d array arr, such that each item of brr subtracts from respective row of arr.\n",
    "    \n",
    "    arr = np.array([[3,3,3],[4,4,4],[5,5,5]])\n",
    "    brr = np.array([1,2,3])\n",
    "    subt = arr-brr\n",
    "  \n",
    "    return subt\n"
   ]
  },
  {
   "cell_type": "code",
   "execution_count": 12,
   "metadata": {},
   "outputs": [],
   "source": [
    "#Task11\n",
    "def function11():\n",
    "    # Replace all odd numbers in arr with -1 without changing arr.\n",
    "    \n",
    "    arr = np.array([0, 1, 2, 3, 4, 5, 6, 7, 8, 9])\n",
    "    ans = np.where(np.mod(arr,2)>0,-1,arr)\n",
    "  \n",
    "    return ans"
   ]
  },
  {
   "cell_type": "code",
   "execution_count": 13,
   "metadata": {},
   "outputs": [],
   "source": [
    "#Tas12\n",
    "def function12():\n",
    "    # Create the following pattern without hardcoding. Use only numpy functions and the below input array arr.\n",
    "    # HINT: use stacking concept\n",
    "    \n",
    "    arr = np.array([1,2,3])\n",
    "    ans = np.hstack(  (np.full_like(arr,1), np.full_like(arr,2), np.full_like(arr,3), arr[:],arr[:],arr[:] )   ) \n",
    "   \n",
    "    return ans"
   ]
  },
  {
   "cell_type": "code",
   "execution_count": 14,
   "metadata": {},
   "outputs": [],
   "source": [
    "#Task13\n",
    "def function13():\n",
    "    # Set a condition which gets all items between 5 and 10 from arr.\n",
    "    \n",
    "    \n",
    "    arr = np.array([2, 6, 1, 9, 10, 3, 27])\n",
    "    ans = arr[(arr>5)&(arr<10)] \n",
    "    arr = np.arange(10, 34, 1) #write reshape code\n",
    "    return ans"
   ]
  },
  {
   "cell_type": "code",
   "execution_count": 15,
   "metadata": {},
   "outputs": [],
   "source": [
    "#Task14\n",
    "def function14():\n",
    "    # Create an 8X3 integer array from a range between 10 to 34 such that the difference between each element is 1 and then Split the array into four equal-sized sub-arrays.\n",
    "    # Hint use split method\n",
    "    \n",
    "    \n",
    "    arr = np.arange(10, 34, 1).reshape(8,3) #write reshape code\n",
    "    ans = np.split(arr,4)#write your code here \n",
    "  \n",
    "    return ans"
   ]
  },
  {
   "cell_type": "code",
   "execution_count": 16,
   "metadata": {},
   "outputs": [],
   "source": [
    "#Task15\n",
    "def function15():\n",
    "    #Sort following NumPy array by the second column\n",
    "    \n",
    "    \n",
    "    arr = np.array([[ 8,  2, -2],[-4,  1,  7],[ 6,  3,  9]])\n",
    "    ans = mat[np.sort(mat[:,1]).argsort()]\n",
    "  \n",
    "    return ans\n"
   ]
  },
  {
   "cell_type": "code",
   "execution_count": 17,
   "metadata": {},
   "outputs": [],
   "source": [
    "#Task16\n",
    "def function16():\n",
    "    #Write a NumPy program to join a sequence of arrays along depth.\n",
    "    \n",
    "    \n",
    "    x = np.array([[1], [2], [3]])\n",
    "    y = np.array([[2], [3], [4]])\n",
    "    ans = np.array(np.hsplit(np.hstack ((x,y)),1)) \n",
    "  \n",
    "    return ans"
   ]
  },
  {
   "cell_type": "code",
   "execution_count": 43,
   "metadata": {},
   "outputs": [],
   "source": [
    "#Task17\n",
    "def function17():\n",
    "    # replace numbers with \"YES\" if it divided by 3 and 5\n",
    "    # otherwise it will be replaced with \"NO\"\n",
    "    # Hint: np.where\n",
    "    arr = np.arange(1,10*10+1).reshape((10,10))\n",
    "    return           np.where((np.mod(arr,3)==0)&(np.mod(arr,5)==0),\"YES\",\"NO\")# Write Your Code HERE"
   ]
  },
  {
   "cell_type": "code",
   "execution_count": 44,
   "metadata": {},
   "outputs": [
    {
     "data": {
      "text/plain": [
       "array([['NO', 'NO', 'NO', 'NO', 'NO', 'NO', 'NO', 'NO', 'NO', 'NO'],\n",
       "       ['NO', 'NO', 'NO', 'NO', 'YES', 'NO', 'NO', 'NO', 'NO', 'NO'],\n",
       "       ['NO', 'NO', 'NO', 'NO', 'NO', 'NO', 'NO', 'NO', 'NO', 'YES'],\n",
       "       ['NO', 'NO', 'NO', 'NO', 'NO', 'NO', 'NO', 'NO', 'NO', 'NO'],\n",
       "       ['NO', 'NO', 'NO', 'NO', 'YES', 'NO', 'NO', 'NO', 'NO', 'NO'],\n",
       "       ['NO', 'NO', 'NO', 'NO', 'NO', 'NO', 'NO', 'NO', 'NO', 'YES'],\n",
       "       ['NO', 'NO', 'NO', 'NO', 'NO', 'NO', 'NO', 'NO', 'NO', 'NO'],\n",
       "       ['NO', 'NO', 'NO', 'NO', 'YES', 'NO', 'NO', 'NO', 'NO', 'NO'],\n",
       "       ['NO', 'NO', 'NO', 'NO', 'NO', 'NO', 'NO', 'NO', 'NO', 'YES'],\n",
       "       ['NO', 'NO', 'NO', 'NO', 'NO', 'NO', 'NO', 'NO', 'NO', 'NO']],\n",
       "      dtype='<U3')"
      ]
     },
     "execution_count": 44,
     "metadata": {},
     "output_type": "execute_result"
    }
   ],
   "source": [
    "function17()"
   ]
  },
  {
   "cell_type": "code",
   "execution_count": 19,
   "metadata": {},
   "outputs": [],
   "source": [
    "#Task18\n",
    "def function18():\n",
    "    # count values of \"students\" are exist in \"piaic\"\n",
    "    piaic = np.arange(100)\n",
    "    students = np.array([5,20,50,200,301,7001])\n",
    "    x = (s[np.where(s<=len(p))]).size # Write you code Here\n",
    "    return x"
   ]
  },
  {
   "cell_type": "code",
   "execution_count": 20,
   "metadata": {},
   "outputs": [],
   "source": [
    "#Task19\n",
    "def function19():\n",
    "    #Create variable \"X\" from 1,25 (both are included) range values\n",
    "    #Convert \"X\" variable dimension into 5 rows and 5 columns\n",
    "    #Create one more variable \"W\" copy of \"X\" \n",
    "    #Swap \"W\" row and column axis (like transpose)\n",
    "    # then create variable \"b\" with value equal to 5\n",
    "    # Now return output as \"(X*W)+b:\n",
    "\n",
    "    X =   np.arange(1,26).reshape(5,5) # Write your code here\n",
    "    W =   X.copy().T # Write your code here \n",
    "    b =   5 # Write your code here\n",
    "    output =    (X*W)+b # Write your code here\n",
    "    return output"
   ]
  },
  {
   "cell_type": "code",
   "execution_count": 21,
   "metadata": {},
   "outputs": [],
   "source": [
    "#Task20\n",
    "def function20():\n",
    "    #apply fuction \"abc\" on each value of Array \"X\"\n",
    "    x = np.arange(1,11)\n",
    "    def abc(x):\n",
    "        return x*2+3-2\n",
    "\n",
    "    return abc(x) #Write your Code here"
   ]
  }
 ],
 "metadata": {
  "kernelspec": {
   "display_name": "Python 3",
   "language": "python",
   "name": "python3"
  },
  "language_info": {
   "codemirror_mode": {
    "name": "ipython",
    "version": 3
   },
   "file_extension": ".py",
   "mimetype": "text/x-python",
   "name": "python",
   "nbconvert_exporter": "python",
   "pygments_lexer": "ipython3",
   "version": "3.6.9"
  }
 },
 "nbformat": 4,
 "nbformat_minor": 4
}
